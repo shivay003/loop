{
 "cells": [
  {
   "cell_type": "code",
   "execution_count": 2,
   "id": "9f73c1b4-e705-4789-b2ef-f9b1699abf74",
   "metadata": {},
   "outputs": [],
   "source": [
    "a= 10\n",
    "if a>10 :\n",
    "    print (\"a is grater then 10\")"
   ]
  },
  {
   "cell_type": "code",
   "execution_count": 3,
   "id": "c98f3095-eea7-41f9-9deb-a94c4b9edd29",
   "metadata": {},
   "outputs": [
    {
     "data": {
      "text/plain": [
       "False"
      ]
     },
     "execution_count": 3,
     "metadata": {},
     "output_type": "execute_result"
    }
   ],
   "source": [
    "a >10"
   ]
  },
  {
   "cell_type": "code",
   "execution_count": 4,
   "id": "5b8631ef-50a0-4afe-b345-077a47ae719f",
   "metadata": {},
   "outputs": [],
   "source": [
    "a=10\n",
    "if a<10:\n",
    "    print (\"yes a is grater then 10\")"
   ]
  },
  {
   "cell_type": "code",
   "execution_count": 5,
   "id": "fa60fe16-8bf8-4aef-a86c-5b6f882fe9ef",
   "metadata": {},
   "outputs": [
    {
     "data": {
      "text/plain": [
       "False"
      ]
     },
     "execution_count": 5,
     "metadata": {},
     "output_type": "execute_result"
    }
   ],
   "source": [
    "a>10\n"
   ]
  },
  {
   "cell_type": "code",
   "execution_count": 6,
   "id": "1ab90e73-baf8-49c1-bf16-39644a53a7d1",
   "metadata": {},
   "outputs": [
    {
     "data": {
      "text/plain": [
       "True"
      ]
     },
     "execution_count": 6,
     "metadata": {},
     "output_type": "execute_result"
    }
   ],
   "source": [
    "a>=10"
   ]
  },
  {
   "cell_type": "code",
   "execution_count": 10,
   "id": "ade0a788-ca1c-4a19-82a5-a8bfbe7fe5a9",
   "metadata": {},
   "outputs": [
    {
     "name": "stdout",
     "output_type": "stream",
     "text": [
      "b is leser tthen 40\n"
     ]
    }
   ],
   "source": [
    "b=20\n",
    "if b>30:\n",
    "    print (\"b is grater then 30\")\n",
    "elif b <40:\n",
    "    print (\"b is leser tthen 40\")\n",
    "else :\n",
    "    print (\"this is my default\")"
   ]
  },
  {
   "cell_type": "code",
   "execution_count": 8,
   "id": "a67133d2-21ea-494a-a57d-912cd8c04ce9",
   "metadata": {},
   "outputs": [
    {
     "data": {
      "text/plain": [
       "False"
      ]
     },
     "execution_count": 8,
     "metadata": {},
     "output_type": "execute_result"
    }
   ],
   "source": [
    "b>20"
   ]
  },
  {
   "cell_type": "code",
   "execution_count": null,
   "id": "5e310512-2c18-4cd0-9914-c8371a05a278",
   "metadata": {},
   "outputs": [],
   "source": [
    "int(input())"
   ]
  },
  {
   "cell_type": "code",
   "execution_count": null,
   "id": "1b3c2506-d8c4-4e2a-a685-f015f76f235c",
   "metadata": {},
   "outputs": [],
   "source": [
    "int(input (345))"
   ]
  },
  {
   "cell_type": "code",
   "execution_count": 2,
   "id": "31ed4070-338b-45e5-94b0-68609f443e23",
   "metadata": {},
   "outputs": [],
   "source": [
    "a =10\n",
    "if a > 10:\n",
    "    print (\"a is grator then 10\")"
   ]
  },
  {
   "cell_type": "code",
   "execution_count": 5,
   "id": "b3993600-a73f-4c43-8001-5db645a6051e",
   "metadata": {},
   "outputs": [
    {
     "data": {
      "text/plain": [
       "True"
      ]
     },
     "execution_count": 5,
     "metadata": {},
     "output_type": "execute_result"
    }
   ],
   "source": [
    "a <=10"
   ]
  },
  {
   "cell_type": "code",
   "execution_count": 2,
   "id": "8c2aee91-2128-4be7-a3b2-92f5368deb4c",
   "metadata": {},
   "outputs": [
    {
     "name": "stdin",
     "output_type": "stream",
     "text": [
      " 100\n"
     ]
    },
    {
     "name": "stdout",
     "output_type": "stream",
     "text": [
      "e is grater then 30\n"
     ]
    }
   ],
   "source": [
    "e = int(input())\n",
    "if e > 30:\n",
    "    print (\"e is grater then 30\")\n",
    "elif e > 40:\n",
    "    print (\"e is lesser then 40\")\n",
    "elif e < 100:\n",
    "    print (\"e is grator then 100\")\n",
    "else :\n",
    "    print (\"this is my default\")"
   ]
  },
  {
   "cell_type": "code",
   "execution_count": 3,
   "id": "d14ab718-d99c-46aa-bb91-2b28566c4ca4",
   "metadata": {},
   "outputs": [
    {
     "name": "stdin",
     "output_type": "stream",
     "text": [
      " 200\n"
     ]
    },
    {
     "name": "stdout",
     "output_type": "stream",
     "text": [
      "f is grater then 30\n"
     ]
    }
   ],
   "source": [
    "f = int(input())\n",
    "if f > 30:\n",
    "    print (\"f is grater then 30\")\n",
    "elif f > 40:\n",
    "    print (\"f is lesser then 40\")\n",
    "elif f < 100:\n",
    "    print (\"f is grator then 100\")\n",
    "else :\n",
    "    print (\"this is my default\")"
   ]
  },
  {
   "cell_type": "markdown",
   "id": "dcd34fb9-99f8-44ac-b43b-533adad53bdf",
   "metadata": {},
   "source": [
    "while loop"
   ]
  },
  {
   "cell_type": "code",
   "execution_count": 2,
   "id": "a4d68403-240f-40e0-a4e8-1cbdbf22446e",
   "metadata": {},
   "outputs": [
    {
     "name": "stdout",
     "output_type": "stream",
     "text": [
      "1\n",
      "2\n",
      "3\n",
      "this is my else\n"
     ]
    }
   ],
   "source": [
    "n = 4\n",
    "i = 1\n",
    "while i < n:\n",
    "    print (i)\n",
    "    i = i+1\n",
    "else :\n",
    "    print (\"this is my else\")"
   ]
  },
  {
   "cell_type": "code",
   "execution_count": 1,
   "id": "23f035ca-2512-4a0a-9220-20f064e0d2eb",
   "metadata": {},
   "outputs": [
    {
     "name": "stdout",
     "output_type": "stream",
     "text": [
      "1\n",
      "2\n",
      "3\n",
      "4\n",
      "5\n",
      "6\n",
      "7\n",
      "8\n",
      "9\n",
      "10\n",
      "11\n",
      "12\n",
      "13\n",
      "14\n",
      "15\n",
      "16\n",
      "17\n",
      "18\n",
      "19\n",
      "20\n",
      "21\n",
      "22\n",
      "23\n",
      "24\n",
      "25\n",
      "26\n",
      "27\n",
      "28\n",
      "29\n",
      "30\n",
      "31\n",
      "32\n",
      "33\n",
      "34\n",
      "35\n",
      "36\n",
      "37\n",
      "38\n",
      "39\n",
      "40\n",
      "41\n",
      "42\n",
      "43\n",
      "44\n",
      "45\n",
      "46\n",
      "47\n",
      "48\n",
      "49\n"
     ]
    }
   ],
   "source": [
    "a = 100\n",
    "i = 1\n",
    "while i < a:\n",
    "    print (i)\n",
    "    i = i +1\n",
    "    if i == 50:\n",
    "        break\n",
    "else :\n",
    "    print (\"this is my else\")\n",
    "\n",
    "    \n",
    "    \n"
   ]
  },
  {
   "cell_type": "markdown",
   "id": "f30334a6-57fe-49c9-8dc1-8a0f8d89d7e3",
   "metadata": {},
   "source": [
    "for loop"
   ]
  },
  {
   "cell_type": "code",
   "execution_count": 6,
   "id": "f2a0b5d7-434e-4797-bc56-f25bc0524ef9",
   "metadata": {},
   "outputs": [],
   "source": [
    "s = \"akash\""
   ]
  },
  {
   "cell_type": "code",
   "execution_count": 7,
   "id": "fb463b48-660d-47e4-a519-f224113c9df3",
   "metadata": {},
   "outputs": [
    {
     "data": {
      "text/plain": [
       "'akash'"
      ]
     },
     "execution_count": 7,
     "metadata": {},
     "output_type": "execute_result"
    }
   ],
   "source": [
    "s\n"
   ]
  },
  {
   "cell_type": "code",
   "execution_count": 8,
   "id": "17dcd79b-4d6f-4a05-8e61-a83b8ff8daa4",
   "metadata": {},
   "outputs": [
    {
     "name": "stdout",
     "output_type": "stream",
     "text": [
      "a\n",
      "k\n",
      "a\n",
      "s\n",
      "h\n"
     ]
    }
   ],
   "source": [
    "for i in s:\n",
    "    print (i)"
   ]
  },
  {
   "cell_type": "code",
   "execution_count": 9,
   "id": "83390f61-2fc6-4681-b563-32accf4421ef",
   "metadata": {},
   "outputs": [],
   "source": [
    "l= [1,2,3,4,5,6,\"akash\",True, 10.25]"
   ]
  },
  {
   "cell_type": "code",
   "execution_count": 10,
   "id": "c15824a9-9cc5-4159-a6f7-571f1f040e7a",
   "metadata": {},
   "outputs": [
    {
     "data": {
      "text/plain": [
       "[1, 2, 3, 4, 5, 6, 'akash', True, 10.25]"
      ]
     },
     "execution_count": 10,
     "metadata": {},
     "output_type": "execute_result"
    }
   ],
   "source": [
    "l"
   ]
  },
  {
   "cell_type": "code",
   "execution_count": 17,
   "id": "6625fcd5-f049-4525-a13d-82d2c8fba2ec",
   "metadata": {},
   "outputs": [
    {
     "name": "stdout",
     "output_type": "stream",
     "text": [
      "<class 'int'>\n",
      "<class 'int'>\n",
      "<class 'int'>\n",
      "<class 'int'>\n",
      "<class 'int'>\n",
      "<class 'int'>\n",
      "<class 'str'>\n"
     ]
    }
   ],
   "source": [
    "for i in l:\n",
    "    print (type(i))\n",
    "    if i == \"akash\":\n",
    "        break\n",
    "else :\n",
    "    print (\"this will be execute once for loop will complete itself succesfully\")"
   ]
  },
  {
   "cell_type": "code",
   "execution_count": 22,
   "id": "eab18069-9167-42ff-84d5-ccc59f85488e",
   "metadata": {},
   "outputs": [
    {
     "name": "stdout",
     "output_type": "stream",
     "text": [
      "<class 'int'>\n",
      "1\n",
      "<class 'int'>\n",
      "2\n",
      "<class 'int'>\n",
      "3\n",
      "<class 'int'>\n",
      "4\n",
      "<class 'int'>\n",
      "5\n",
      "<class 'int'>\n",
      "6\n",
      "<class 'str'>\n",
      "<class 'bool'>\n",
      "True\n",
      "<class 'float'>\n",
      "10.25\n",
      "this will be execute once for loop will complete itself succesfully\n"
     ]
    }
   ],
   "source": [
    "for i in l:\n",
    "    print (type(i))\n",
    "    if i == \"akash\":\n",
    "        continue\n",
    "    print (i)\n",
    "else :\n",
    "    print (\"this will be execute once for loop will complete itself succesfully\")"
   ]
  },
  {
   "cell_type": "code",
   "execution_count": 24,
   "id": "016f54d4-461d-4ec7-8eb0-57543fe4b1e8",
   "metadata": {},
   "outputs": [
    {
     "data": {
      "text/plain": [
       "range(0, 10)"
      ]
     },
     "execution_count": 24,
     "metadata": {},
     "output_type": "execute_result"
    }
   ],
   "source": [
    "range (10)"
   ]
  },
  {
   "cell_type": "code",
   "execution_count": 26,
   "id": "ec412a82-825d-4ab9-8ef3-2db82582beb2",
   "metadata": {},
   "outputs": [
    {
     "data": {
      "text/plain": [
       "[0, 1, 2, 3, 4, 5, 6, 7, 8, 9]"
      ]
     },
     "execution_count": 26,
     "metadata": {},
     "output_type": "execute_result"
    }
   ],
   "source": [
    "list (range (0,10))"
   ]
  },
  {
   "cell_type": "code",
   "execution_count": null,
   "id": "8c04e92f-fbea-406b-83fe-2ed380786a6e",
   "metadata": {},
   "outputs": [],
   "source": []
  }
 ],
 "metadata": {
  "kernelspec": {
   "display_name": "Python 3 (ipykernel)",
   "language": "python",
   "name": "python3"
  },
  "language_info": {
   "codemirror_mode": {
    "name": "ipython",
    "version": 3
   },
   "file_extension": ".py",
   "mimetype": "text/x-python",
   "name": "python",
   "nbconvert_exporter": "python",
   "pygments_lexer": "ipython3",
   "version": "3.10.8"
  }
 },
 "nbformat": 4,
 "nbformat_minor": 5
}
